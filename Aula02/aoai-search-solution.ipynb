{
 "cells": [
  {
   "cell_type": "markdown",
   "metadata": {},
   "source": [
    "Para executar os notebooks mencionados, caso ainda não tenha feito, você precisa implantar um modelo que use o `text-embedding-ada-002` como modelo base e definir o nome da implantação no arquivo `.env` como `AZURE_OPENAI_EMBEDDINGS_ENDPOINT`."
   ]
  },
  {
   "cell_type": "code",
   "execution_count": null,
   "metadata": {},
   "outputs": [],
   "source": [
    "import os\n",
    "import pandas as pd\n",
    "import numpy as np\n",
    "from openai import AzureOpenAI\n",
    "from dotenv import load_dotenv\n",
    "\n",
    "load_dotenv()\n",
    "\n",
    "client = AzureOpenAI(\n",
    "  api_key=os.environ['AZURE_OPENAI_API_KEY'],  # this is also the default, it can be omitted\n",
    "  api_version = \"2023-05-15\"\n",
    "  )\n",
    "\n",
    "model = os.environ['AZURE_OPENAI_EMBEDDINGS_DEPLOYMENT']\n",
    "\n",
    "SIMILARITIES_RESULTS_THRESHOLD = 0.75\n",
    "DATASET_NAME = \"../embedding_index_3m.json\""
   ]
  },
  {
   "cell_type": "markdown",
   "metadata": {},
   "source": [
    "Em seguida, vamos carregar o Índice de Embedding em um DataFrame do Pandas. O Índice de Embedding está armazenado em um arquivo JSON chamado `embedding_index_3m.json`. O Índice de Embedding contém os Embeddings para cada uma das transcrições do YouTube até o final de outubro de 2023."
   ]
  },
  {
   "cell_type": "code",
   "execution_count": null,
   "metadata": {},
   "outputs": [],
   "source": [
    "def load_dataset(source: str) -> pd.core.frame.DataFrame:\n",
    "    # Load the video session index\n",
    "    pd_vectors = pd.read_json(source)\n",
    "    return pd_vectors.drop(columns=[\"text\"], errors=\"ignore\").fillna(\"\")"
   ]
  },
  {
   "cell_type": "markdown",
   "metadata": {},
   "source": [
    "Em seguida, vamos criar uma função chamada `get_videos` que buscará no Índice de Embedding pela query fornecida. A função retornará os 5 vídeos mais similares à query. A função funciona da seguinte maneira:\n",
    "\n",
    "1. Primeiro, é criada uma cópia do Índice de Embedding.\n",
    "2. Em seguida, o Embedding da query é calculado utilizando a API de Embedding da OpenAI.\n",
    "3. Depois, uma nova coluna chamada `similarity` é criada no Índice de Embedding. A coluna `similarity` contém a similaridade do cosseno entre o Embedding da query e o Embedding de cada segmento de vídeo.\n",
    "4. Em seguida, o Índice de Embedding é filtrado pela coluna `similarity`. O Índice de Embedding é filtrado para incluir apenas vídeos que tenham uma similaridade do cosseno maior ou igual a 0,75.\n",
    "5. Finalmente, o Índice de Embedding é ordenado pela coluna `similarity` e os 5 vídeos mais similares são retornados."
   ]
  },
  {
   "cell_type": "code",
   "execution_count": null,
   "metadata": {},
   "outputs": [],
   "source": [
    "def cosine_similarity(a, b):\n",
    "    if len(a) > len(b):\n",
    "        b = np.pad(b, (0, len(a) - len(b)), 'constant')\n",
    "    elif len(b) > len(a):\n",
    "        a = np.pad(a, (0, len(b) - len(a)), 'constant')\n",
    "    return np.dot(a, b) / (np.linalg.norm(a) * np.linalg.norm(b))\n",
    "\n",
    "def get_videos(\n",
    "    query: str, dataset: pd.core.frame.DataFrame, rows: int\n",
    ") -> pd.core.frame.DataFrame:\n",
    "    # create a copy of the dataset\n",
    "    video_vectors = dataset.copy()\n",
    "\n",
    "    # get the embeddings for the query    \n",
    "    query_embeddings = client.embeddings.create(input=query, model=model).data[0].embedding\n",
    "\n",
    "    # create a new column with the calculated similarity for each row\n",
    "    video_vectors[\"similarity\"] = video_vectors[\"ada_v2\"].apply(\n",
    "        lambda x: cosine_similarity(np.array(query_embeddings), np.array(x))\n",
    "    )\n",
    "\n",
    "    # filter the videos by similarity\n",
    "    mask = video_vectors[\"similarity\"] >= SIMILARITIES_RESULTS_THRESHOLD\n",
    "    video_vectors = video_vectors[mask].copy()\n",
    "\n",
    "    # sort the videos by similarity\n",
    "    video_vectors = video_vectors.sort_values(by=\"similarity\", ascending=False).head(\n",
    "        rows\n",
    "    )\n",
    "\n",
    "    # return the top rows\n",
    "    return video_vectors.head(rows)"
   ]
  },
  {
   "cell_type": "markdown",
   "metadata": {},
   "source": [
    "Essa função é bem simples, ela apenas imprime os resultados da consulta da query. "
   ]
  },
  {
   "cell_type": "code",
   "execution_count": null,
   "metadata": {},
   "outputs": [],
   "source": [
    "def display_results(videos: pd.core.frame.DataFrame, query: str):\n",
    "    def _gen_yt_url(video_id: str, seconds: int) -> str:\n",
    "        \"\"\"convert time in format 00:00:00 to seconds\"\"\"\n",
    "        return f\"https://youtu.be/{video_id}?t={seconds}\"\n",
    "\n",
    "    print(f\"\\nVideos similar to '{query}':\")\n",
    "    for _, row in videos.iterrows():\n",
    "        youtube_url = _gen_yt_url(row[\"videoId\"], row[\"seconds\"])\n",
    "        print(f\" - {row['title']}\")\n",
    "        print(f\"   Summary: {' '.join(row['summary'].split()[:15])}...\")\n",
    "        print(f\"   YouTube: {youtube_url}\")\n",
    "        print(f\"   Similarity: {row['similarity']}\")\n",
    "        print(f\"   Speakers: {row['speaker']}\")"
   ]
  },
  {
   "cell_type": "markdown",
   "metadata": {},
   "source": [
    "1. **Carregar o Índice de Embedding:** O Índice de Embedding é carregado em um DataFrame do Pandas.\n",
    "\n",
    "2. **Entrada da Query pelo Usuário:** O usuário é solicitado a inserir uma query.\n",
    "\n",
    "3. **Buscar no Índice de Embedding:** A função `get_videos` é chamada para buscar no Índice de Embedding a query inserida pelo usuário.\n",
    "\n",
    "4. **Exibir os Resultados:** A função `display_results` é chamada para exibir os resultados ao usuário.\n",
    "\n",
    "5. **Repetir o Processo:** O usuário é solicitado a inserir outra query. Esse processo continua até que o usuário insira `exit`.\n",
    "\n",
    "\n",
    "![](../02-chat-and-search/images/notebook-search.png)\n",
    "\n",
    "Na imagem referenciada, você seria solicitado a inserir uma query. Assim que a query for inserida, a aplicação retornará uma lista de vídeos relevantes à query, junto com um link que leva diretamente ao ponto do vídeo onde a resposta à pergunta está localizada.\n",
    "\n",
    "Aqui estão algumas queries que você pode testar:\n",
    "\n",
    "- O que é Azure Machine Learning?\n",
    "- Como funcionam as redes neurais convolucionais?\n",
    "- O que é uma rede neural?\n",
    "- Posso usar Jupyter Notebooks com o Azure Machine Learning?\n",
    "- O que é ONNX?"
   ]
  },
  {
   "cell_type": "code",
   "execution_count": null,
   "metadata": {},
   "outputs": [],
   "source": [
    "pd_vectors = load_dataset(DATASET_NAME)\n",
    "\n",
    "# get user query from imput\n",
    "while True:\n",
    "    query = input(\"Enter a query: \")\n",
    "    if query == \"exit\":\n",
    "        break\n",
    "    videos = get_videos(query, pd_vectors, 5)\n",
    "    display_results(videos, query)"
   ]
  },
  {
   "cell_type": "markdown",
   "metadata": {},
   "source": []
  }
 ],
 "metadata": {
  "kernelspec": {
   "display_name": "venv",
   "language": "python",
   "name": "python3"
  },
  "language_info": {
   "codemirror_mode": {
    "name": "ipython",
    "version": 3
   },
   "file_extension": ".py",
   "mimetype": "text/x-python",
   "name": "python",
   "nbconvert_exporter": "python",
   "pygments_lexer": "ipython3",
   "version": "3.10.13"
  }
 },
 "nbformat": 4,
 "nbformat_minor": 2
}
