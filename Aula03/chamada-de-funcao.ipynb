{
 "cells": [
  {
   "cell_type": "code",
   "execution_count": 17,
   "metadata": {},
   "outputs": [],
   "source": [
    "import os\n",
    "import json\n",
    "from openai import AzureOpenAI\n",
    "from dotenv import load_dotenv\n",
    "load_dotenv()\n",
    "\n",
    "client = AzureOpenAI(\n",
    "  api_key=os.environ['AZURE_OPENAI_KEY'],\n",
    "  api_version = \"2023-03-15-preview\"\n",
    ")\n",
    "model = os.environ['AZURE_OPENAI_DEPLOYMENT']"
   ]
  },
  {
   "cell_type": "code",
   "execution_count": 26,
   "metadata": {},
   "outputs": [],
   "source": [
    "messages = [\n",
    "    {\"role\": \"user\", \"content\": \"Encontre um bom curso para um estudante iniciante aprender Azure.\"}\n",
    "]"
   ]
  },
  {
   "cell_type": "code",
   "execution_count": 27,
   "metadata": {},
   "outputs": [],
   "source": [
    "functions = [\n",
    "   {\n",
    "      \"name\": \"search_courses\",\n",
    "      \"description\": \"Recupera cursos do índice de busca com base nos parâmetros fornecidos\",\n",
    "      \"parameters\": {\n",
    "         \"type\": \"object\",\n",
    "         \"properties\": {\n",
    "            \"role\": {\n",
    "               \"type\": \"string\",\n",
    "               \"description\": \"O papel do aprendiz (por exemplo, desenvolvedor, cientista de dados, estudante, etc.)\"\n",
    "            },\n",
    "            \"product\": {\n",
    "               \"type\": \"string\",\n",
    "               \"description\": \"O produto que a lição está cobrindo (por exemplo, Azure, Power BI, etc.)\"\n",
    "            },\n",
    "            \"level\": {\n",
    "               \"type\": \"string\",\n",
    "               \"description\": \"O nível de experiência que o aprendiz tem antes de fazer o curso (por exemplo, iniciante, intermediário, avançado)\"\n",
    "            }\n",
    "         },\n",
    "         \"required\": [\"role\"]\n",
    "      }\n",
    "   }\n",
    "]"
   ]
  },
  {
   "cell_type": "code",
   "execution_count": 29,
   "metadata": {},
   "outputs": [],
   "source": [
    "response = client.chat.completions.create(\n",
    "    model=model, \n",
    "    messages=messages,\n",
    "    functions=functions, \n",
    "    function_call=\"auto\"\n",
    ") \n",
    "\n",
    "response_message = response.choices[0].message"
   ]
  },
  {
   "cell_type": "code",
   "execution_count": 30,
   "metadata": {},
   "outputs": [],
   "source": [
    "import requests\n",
    "\n",
    "def search_courses(role, product, level):\n",
    "    url = \"https://learn.microsoft.com/api/catalog/\"\n",
    "    params = {\n",
    "        \"role\": role,\n",
    "        \"product\": product,\n",
    "        \"level\": level,\n",
    "        \"locale\": \"pt-br\"\n",
    "    }\n",
    "    response = requests.get(url, params=params)\n",
    "    modules = response.json()[\"modules\"]\n",
    "    results = []\n",
    "    for module in modules[:5]:\n",
    "        title = module[\"title\"]\n",
    "        url = module[\"url\"]\n",
    "        results.append({\"title\": title, \"url\": url})\n",
    "    return str(results)"
   ]
  },
  {
   "cell_type": "code",
   "execution_count": 31,
   "metadata": {},
   "outputs": [
    {
     "name": "stdout",
     "output_type": "stream",
     "text": [
      "Output of function call:\n",
      "[{'title': 'Descrever conceitos de criptografia', 'url': 'https://learn.microsoft.com/pt-br/training/modules/describe-concepts-of-cryptography/?WT.mc_id=api_CatalogApi'}, {'title': 'Introdução à classificação de áudio com o TensorFlow', 'url': 'https://learn.microsoft.com/pt-br/training/modules/intro-audio-classification-tensorflow/?WT.mc_id=api_CatalogApi'}, {'title': 'Criar um modelo de dados de alto desempenho no banco de dados SQL do Azure com o Azure Data Studio', 'url': 'https://learn.microsoft.com/pt-br/training/modules/design-a-data-model-with-ads/?WT.mc_id=api_CatalogApi'}, {'title': 'Princípios básicos da Fala de IA do Azure', 'url': 'https://learn.microsoft.com/pt-br/training/modules/recognize-synthesize-speech/?WT.mc_id=api_CatalogApi'}, {'title': 'Introdução ao Microsoft Cloud Adoption Framework para o Azure', 'url': 'https://learn.microsoft.com/pt-br/training/modules/cloud-adoption-framework-getting-started/?WT.mc_id=api_CatalogApi'}]\n",
      "<class 'str'>\n"
     ]
    }
   ],
   "source": [
    "if response_message.function_call.name:\n",
    "    # Call the function. \n",
    "    function_name = response_message.function_call.name\n",
    "\n",
    "    available_functions = {\n",
    "            \"search_courses\": search_courses,\n",
    "    }\n",
    "    function_to_call = available_functions[function_name] \n",
    "\n",
    "    translate = [\n",
    "        {\"role\": \"user\", \"content\": \"Traduza para o ingles: \" + response_message.function_call.arguments }\n",
    "    ]\n",
    "    response_translate = client.chat.completions.create(model=model, messages=translate) \n",
    "\n",
    "    function_args = json.loads(response_translate.choices[0].message.content)\n",
    "    function_response = function_to_call(**function_args)\n",
    "\n",
    "    print(\"Output of function call:\")\n",
    "    print(function_response)\n",
    "    print(type(function_response))\n",
    "\n",
    "\n",
    "    # Add the assistant response and function response to the messages\n",
    "    messages.append( # adding assistant response to messages\n",
    "        {\n",
    "            \"role\": response_message.role,\n",
    "            \"function_call\": {\n",
    "                \"name\": function_name,\n",
    "                \"arguments\": response_message.function_call.arguments,\n",
    "            },\n",
    "            \"content\": None\n",
    "        }\n",
    "    )\n",
    "    messages.append( # adding function response to messages\n",
    "        {\n",
    "            \"role\": \"function\",\n",
    "            \"name\": function_name,\n",
    "            \"content\":function_response,\n",
    "        }\n",
    "    )"
   ]
  },
  {
   "cell_type": "code",
   "execution_count": 32,
   "metadata": {},
   "outputs": [
    {
     "name": "stdout",
     "output_type": "stream",
     "text": [
      "ChatCompletionMessage(content='Aqui estão alguns cursos recomendados para um estudante iniciante aprender Azure:\\n\\n1. **[Descrever conceitos de criptografia](https://learn.microsoft.com/pt-br/training/modules/describe-concepts-of-cryptography/?WT.mc_id=api_CatalogApi)**\\n   \\n2. **[Introdução à classificação de áudio com o TensorFlow](https://learn.microsoft.com/pt-br/training/modules/intro-audio-classification-tensorflow/?WT.mc_id=api_CatalogApi)**\\n\\n3. **[Criar um modelo de dados de alto desempenho no banco de dados SQL do Azure com o Azure Data Studio](https://learn.microsoft.com/pt-br/training/modules/design-a-data-model-with-ads/?WT.mc_id=api_CatalogApi)**\\n\\n4. **[Princípios básicos da Fala de IA do Azure](https://learn.microsoft.com/pt-br/training/modules/recognize-synthesize-speech/?WT.mc_id=api_CatalogApi)**\\n\\n5. **[Introdução ao Microsoft Cloud Adoption Framework para o Azure](https://learn.microsoft.com/pt-br/training/modules/cloud-adoption-framework-getting-started/?WT.mc_id=api_CatalogApi)**\\n\\nEsses cursos são uma ótima maneira de começar a aprender sobre Azure e suas aplicações.', refusal=None, role='assistant', function_call=None, tool_calls=None)\n"
     ]
    }
   ],
   "source": [
    "second_response = client.chat.completions.create(\n",
    "    messages=messages,\n",
    "    model=model,\n",
    "    function_call=\"auto\",\n",
    "    functions=functions,\n",
    "    temperature=0\n",
    ")  \n",
    "\n",
    "print(second_response.choices[0].message)"
   ]
  }
 ],
 "metadata": {
  "kernelspec": {
   "display_name": "Python 3",
   "language": "python",
   "name": "python3"
  },
  "language_info": {
   "codemirror_mode": {
    "name": "ipython",
    "version": 3
   },
   "file_extension": ".py",
   "mimetype": "text/x-python",
   "name": "python",
   "nbconvert_exporter": "python",
   "pygments_lexer": "ipython3",
   "version": "3.10.13"
  }
 },
 "nbformat": 4,
 "nbformat_minor": 2
}
